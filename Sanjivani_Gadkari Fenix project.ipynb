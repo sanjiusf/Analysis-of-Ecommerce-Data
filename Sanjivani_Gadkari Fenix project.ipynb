{
 "cells": [
  {
   "cell_type": "code",
   "execution_count": 1,
   "metadata": {},
   "outputs": [],
   "source": [
    "import numpy as np\n",
    "import pandas as pd\n",
    "import matplotlib.pyplot as plt\n",
    "import seaborn as sns\n",
    "sns.set_style(\"whitegrid\", {'axes.grid' : True})\n",
    "sns.set_palette(\"Set2\")"
   ]
  },
  {
   "cell_type": "code",
   "execution_count": 2,
   "metadata": {},
   "outputs": [],
   "source": [
    "df = pd.read_excel('Delivery Data Project.xlsx')"
   ]
  },
  {
   "cell_type": "code",
   "execution_count": 3,
   "metadata": {},
   "outputs": [
    {
     "data": {
      "text/html": [
       "<div>\n",
       "<style scoped>\n",
       "    .dataframe tbody tr th:only-of-type {\n",
       "        vertical-align: middle;\n",
       "    }\n",
       "\n",
       "    .dataframe tbody tr th {\n",
       "        vertical-align: top;\n",
       "    }\n",
       "\n",
       "    .dataframe thead th {\n",
       "        text-align: right;\n",
       "    }\n",
       "</style>\n",
       "<table border=\"1\" class=\"dataframe\">\n",
       "  <thead>\n",
       "    <tr style=\"text-align: right;\">\n",
       "      <th></th>\n",
       "      <th>order_id</th>\n",
       "      <th>order_number</th>\n",
       "      <th>created_at</th>\n",
       "      <th>fenix_promised_date</th>\n",
       "      <th>Carrier_Pickup_Date</th>\n",
       "      <th>Actual Days to Ship</th>\n",
       "      <th>actual_delivery_date</th>\n",
       "      <th>processed_at</th>\n",
       "      <th>ship_to_zip</th>\n",
       "      <th>processing_method</th>\n",
       "      <th>...</th>\n",
       "      <th>total_price</th>\n",
       "      <th>total_weight</th>\n",
       "      <th>track_id</th>\n",
       "      <th>carrier</th>\n",
       "      <th>carrier_expected_delivery_date</th>\n",
       "      <th>from_zip_code</th>\n",
       "      <th>quantity</th>\n",
       "      <th>service_code</th>\n",
       "      <th>service_desc</th>\n",
       "      <th>status</th>\n",
       "    </tr>\n",
       "  </thead>\n",
       "  <tbody>\n",
       "    <tr>\n",
       "      <th>0</th>\n",
       "      <td>805537710167</td>\n",
       "      <td>128476</td>\n",
       "      <td>2018-12-28 20:59:18</td>\n",
       "      <td>NaT</td>\n",
       "      <td>2019-01-02 17:15:00</td>\n",
       "      <td>4.844236</td>\n",
       "      <td>2019-01-04 11:17:00</td>\n",
       "      <td>2018-12-28 20:59:18</td>\n",
       "      <td>28144</td>\n",
       "      <td>direct</td>\n",
       "      <td>...</td>\n",
       "      <td>36.90</td>\n",
       "      <td>453</td>\n",
       "      <td>784762388808</td>\n",
       "      <td>FEDEX</td>\n",
       "      <td>2019-02-17 00:58:27</td>\n",
       "      <td>NaN</td>\n",
       "      <td>1</td>\n",
       "      <td>FEDEX_2_DAY</td>\n",
       "      <td>FedEx 2Day</td>\n",
       "      <td>DELIVERED</td>\n",
       "    </tr>\n",
       "    <tr>\n",
       "      <th>1</th>\n",
       "      <td>805607735383</td>\n",
       "      <td>128477</td>\n",
       "      <td>2018-12-28 23:15:48</td>\n",
       "      <td>2019-01-07</td>\n",
       "      <td>2019-01-02 17:15:00</td>\n",
       "      <td>4.749444</td>\n",
       "      <td>2019-01-04 13:49:00</td>\n",
       "      <td>2018-12-28 23:15:47</td>\n",
       "      <td>76401</td>\n",
       "      <td>express</td>\n",
       "      <td>...</td>\n",
       "      <td>38.00</td>\n",
       "      <td>1587</td>\n",
       "      <td>784762464001</td>\n",
       "      <td>FEDEX</td>\n",
       "      <td>2019-02-17 00:58:25</td>\n",
       "      <td>NaN</td>\n",
       "      <td>1</td>\n",
       "      <td>FEDEX_2_DAY</td>\n",
       "      <td>FedEx 2Day</td>\n",
       "      <td>DELIVERED</td>\n",
       "    </tr>\n",
       "    <tr>\n",
       "      <th>2</th>\n",
       "      <td>805616844887</td>\n",
       "      <td>128478</td>\n",
       "      <td>2018-12-28 23:41:04</td>\n",
       "      <td>2019-01-07</td>\n",
       "      <td>2019-01-02 22:22:00</td>\n",
       "      <td>4.945093</td>\n",
       "      <td>2019-01-05 12:41:00</td>\n",
       "      <td>2018-12-28 23:41:03</td>\n",
       "      <td>78380</td>\n",
       "      <td>direct</td>\n",
       "      <td>...</td>\n",
       "      <td>42.00</td>\n",
       "      <td>2041</td>\n",
       "      <td>9405511699000085056254</td>\n",
       "      <td>USPS</td>\n",
       "      <td>2019-02-17 00:12:37</td>\n",
       "      <td>98264.0</td>\n",
       "      <td>0</td>\n",
       "      <td>PM</td>\n",
       "      <td>Priority Mail</td>\n",
       "      <td>DELIVERED</td>\n",
       "    </tr>\n",
       "    <tr>\n",
       "      <th>3</th>\n",
       "      <td>805680939095</td>\n",
       "      <td>128479</td>\n",
       "      <td>2018-12-29 01:48:56</td>\n",
       "      <td>NaT</td>\n",
       "      <td>2019-01-02 17:15:00</td>\n",
       "      <td>4.643102</td>\n",
       "      <td>2019-01-08 05:28:00</td>\n",
       "      <td>2018-12-29 01:48:56</td>\n",
       "      <td>5256301</td>\n",
       "      <td>direct</td>\n",
       "      <td>...</td>\n",
       "      <td>74.99</td>\n",
       "      <td>907</td>\n",
       "      <td>784762298714</td>\n",
       "      <td>FEDEX</td>\n",
       "      <td>2019-02-17 00:58:24</td>\n",
       "      <td>NaN</td>\n",
       "      <td>1</td>\n",
       "      <td>INTERNATIONAL_ECONOMY</td>\n",
       "      <td>FedEx International Economy</td>\n",
       "      <td>DELIVERED</td>\n",
       "    </tr>\n",
       "    <tr>\n",
       "      <th>4</th>\n",
       "      <td>805769412695</td>\n",
       "      <td>128480</td>\n",
       "      <td>2018-12-29 03:34:53</td>\n",
       "      <td>2019-01-09</td>\n",
       "      <td>2019-01-04 17:29:00</td>\n",
       "      <td>6.579248</td>\n",
       "      <td>2019-01-14 10:11:00</td>\n",
       "      <td>2018-12-29 03:34:52</td>\n",
       "      <td>33586</td>\n",
       "      <td>direct</td>\n",
       "      <td>...</td>\n",
       "      <td>157.05</td>\n",
       "      <td>3401</td>\n",
       "      <td>61290985613820000953</td>\n",
       "      <td>FEDEX</td>\n",
       "      <td>2019-02-17 00:58:22</td>\n",
       "      <td>NaN</td>\n",
       "      <td>1</td>\n",
       "      <td>SMART_POST</td>\n",
       "      <td>FedEx SmartPost</td>\n",
       "      <td>DELIVERED</td>\n",
       "    </tr>\n",
       "  </tbody>\n",
       "</table>\n",
       "<p>5 rows × 27 columns</p>\n",
       "</div>"
      ],
      "text/plain": [
       "       order_id  order_number          created_at fenix_promised_date  \\\n",
       "0  805537710167        128476 2018-12-28 20:59:18                 NaT   \n",
       "1  805607735383        128477 2018-12-28 23:15:48          2019-01-07   \n",
       "2  805616844887        128478 2018-12-28 23:41:04          2019-01-07   \n",
       "3  805680939095        128479 2018-12-29 01:48:56                 NaT   \n",
       "4  805769412695        128480 2018-12-29 03:34:53          2019-01-09   \n",
       "\n",
       "  Carrier_Pickup_Date  Actual Days to Ship actual_delivery_date  \\\n",
       "0 2019-01-02 17:15:00             4.844236  2019-01-04 11:17:00   \n",
       "1 2019-01-02 17:15:00             4.749444  2019-01-04 13:49:00   \n",
       "2 2019-01-02 22:22:00             4.945093  2019-01-05 12:41:00   \n",
       "3 2019-01-02 17:15:00             4.643102  2019-01-08 05:28:00   \n",
       "4 2019-01-04 17:29:00             6.579248  2019-01-14 10:11:00   \n",
       "\n",
       "         processed_at ship_to_zip processing_method    ...     total_price  \\\n",
       "0 2018-12-28 20:59:18       28144            direct    ...           36.90   \n",
       "1 2018-12-28 23:15:47       76401           express    ...           38.00   \n",
       "2 2018-12-28 23:41:03       78380            direct    ...           42.00   \n",
       "3 2018-12-29 01:48:56     5256301            direct    ...           74.99   \n",
       "4 2018-12-29 03:34:52       33586            direct    ...          157.05   \n",
       "\n",
       "  total_weight                track_id  carrier  \\\n",
       "0          453            784762388808    FEDEX   \n",
       "1         1587            784762464001    FEDEX   \n",
       "2         2041  9405511699000085056254     USPS   \n",
       "3          907            784762298714    FEDEX   \n",
       "4         3401    61290985613820000953    FEDEX   \n",
       "\n",
       "   carrier_expected_delivery_date  from_zip_code  quantity  \\\n",
       "0             2019-02-17 00:58:27            NaN         1   \n",
       "1             2019-02-17 00:58:25            NaN         1   \n",
       "2             2019-02-17 00:12:37        98264.0         0   \n",
       "3             2019-02-17 00:58:24            NaN         1   \n",
       "4             2019-02-17 00:58:22            NaN         1   \n",
       "\n",
       "            service_code                 service_desc     status  \n",
       "0            FEDEX_2_DAY                   FedEx 2Day  DELIVERED  \n",
       "1            FEDEX_2_DAY                   FedEx 2Day  DELIVERED  \n",
       "2                     PM                Priority Mail  DELIVERED  \n",
       "3  INTERNATIONAL_ECONOMY  FedEx International Economy  DELIVERED  \n",
       "4             SMART_POST              FedEx SmartPost  DELIVERED  \n",
       "\n",
       "[5 rows x 27 columns]"
      ]
     },
     "execution_count": 3,
     "metadata": {},
     "output_type": "execute_result"
    }
   ],
   "source": [
    "df.head()"
   ]
  },
  {
   "cell_type": "code",
   "execution_count": 4,
   "metadata": {},
   "outputs": [
    {
     "data": {
      "text/plain": [
       "(1524, 27)"
      ]
     },
     "execution_count": 4,
     "metadata": {},
     "output_type": "execute_result"
    }
   ],
   "source": [
    "df.shape"
   ]
  },
  {
   "cell_type": "code",
   "execution_count": 5,
   "metadata": {},
   "outputs": [
    {
     "data": {
      "text/html": [
       "<div>\n",
       "<style scoped>\n",
       "    .dataframe tbody tr th:only-of-type {\n",
       "        vertical-align: middle;\n",
       "    }\n",
       "\n",
       "    .dataframe tbody tr th {\n",
       "        vertical-align: top;\n",
       "    }\n",
       "\n",
       "    .dataframe thead th {\n",
       "        text-align: right;\n",
       "    }\n",
       "</style>\n",
       "<table border=\"1\" class=\"dataframe\">\n",
       "  <thead>\n",
       "    <tr style=\"text-align: right;\">\n",
       "      <th></th>\n",
       "      <th>order_id</th>\n",
       "      <th>order_number</th>\n",
       "      <th>Actual Days to Ship</th>\n",
       "      <th>shipping_price</th>\n",
       "      <th>sub_total_price</th>\n",
       "      <th>total_line_items_price</th>\n",
       "      <th>total_discout</th>\n",
       "      <th>total_price</th>\n",
       "      <th>total_weight</th>\n",
       "      <th>from_zip_code</th>\n",
       "      <th>quantity</th>\n",
       "    </tr>\n",
       "  </thead>\n",
       "  <tbody>\n",
       "    <tr>\n",
       "      <th>count</th>\n",
       "      <td>1.524000e+03</td>\n",
       "      <td>1524.000000</td>\n",
       "      <td>1524.000000</td>\n",
       "      <td>1520.000000</td>\n",
       "      <td>1524.000000</td>\n",
       "      <td>1524.000000</td>\n",
       "      <td>1524.000000</td>\n",
       "      <td>1524.000000</td>\n",
       "      <td>1524.000000</td>\n",
       "      <td>4.490000e+02</td>\n",
       "      <td>1524.000000</td>\n",
       "    </tr>\n",
       "    <tr>\n",
       "      <th>mean</th>\n",
       "      <td>8.348575e+11</td>\n",
       "      <td>129278.967192</td>\n",
       "      <td>-1596.436700</td>\n",
       "      <td>8.384329</td>\n",
       "      <td>109.806673</td>\n",
       "      <td>119.974547</td>\n",
       "      <td>18.861850</td>\n",
       "      <td>109.806673</td>\n",
       "      <td>2965.337927</td>\n",
       "      <td>1.864342e+07</td>\n",
       "      <td>0.723097</td>\n",
       "    </tr>\n",
       "    <tr>\n",
       "      <th>std</th>\n",
       "      <td>1.732766e+10</td>\n",
       "      <td>465.247130</td>\n",
       "      <td>8185.737403</td>\n",
       "      <td>15.697430</td>\n",
       "      <td>175.285006</td>\n",
       "      <td>202.104911</td>\n",
       "      <td>61.068876</td>\n",
       "      <td>175.285006</td>\n",
       "      <td>7876.509622</td>\n",
       "      <td>1.288656e+08</td>\n",
       "      <td>0.498946</td>\n",
       "    </tr>\n",
       "    <tr>\n",
       "      <th>min</th>\n",
       "      <td>8.055377e+11</td>\n",
       "      <td>128476.000000</td>\n",
       "      <td>-43512.768183</td>\n",
       "      <td>0.000000</td>\n",
       "      <td>0.000000</td>\n",
       "      <td>0.000000</td>\n",
       "      <td>0.000000</td>\n",
       "      <td>0.000000</td>\n",
       "      <td>0.000000</td>\n",
       "      <td>9.123000e+03</td>\n",
       "      <td>0.000000</td>\n",
       "    </tr>\n",
       "    <tr>\n",
       "      <th>25%</th>\n",
       "      <td>8.194779e+11</td>\n",
       "      <td>128877.750000</td>\n",
       "      <td>0.459175</td>\n",
       "      <td>0.000000</td>\n",
       "      <td>24.037500</td>\n",
       "      <td>20.000000</td>\n",
       "      <td>0.000000</td>\n",
       "      <td>24.037500</td>\n",
       "      <td>408.000000</td>\n",
       "      <td>9.826400e+04</td>\n",
       "      <td>0.000000</td>\n",
       "    </tr>\n",
       "    <tr>\n",
       "      <th>50%</th>\n",
       "      <td>8.338779e+11</td>\n",
       "      <td>129275.500000</td>\n",
       "      <td>1.081215</td>\n",
       "      <td>6.950000</td>\n",
       "      <td>60.200000</td>\n",
       "      <td>59.950000</td>\n",
       "      <td>0.000000</td>\n",
       "      <td>60.200000</td>\n",
       "      <td>1360.000000</td>\n",
       "      <td>9.826400e+04</td>\n",
       "      <td>1.000000</td>\n",
       "    </tr>\n",
       "    <tr>\n",
       "      <th>75%</th>\n",
       "      <td>8.502594e+11</td>\n",
       "      <td>129682.250000</td>\n",
       "      <td>2.085616</td>\n",
       "      <td>9.000000</td>\n",
       "      <td>132.125000</td>\n",
       "      <td>152.900000</td>\n",
       "      <td>10.000000</td>\n",
       "      <td>132.125000</td>\n",
       "      <td>3063.250000</td>\n",
       "      <td>9.826400e+04</td>\n",
       "      <td>1.000000</td>\n",
       "    </tr>\n",
       "    <tr>\n",
       "      <th>max</th>\n",
       "      <td>8.663718e+11</td>\n",
       "      <td>130093.000000</td>\n",
       "      <td>44.186782</td>\n",
       "      <td>240.000000</td>\n",
       "      <td>3592.800000</td>\n",
       "      <td>4272.000000</td>\n",
       "      <td>1098.000000</td>\n",
       "      <td>3592.800000</td>\n",
       "      <td>125191.000000</td>\n",
       "      <td>9.826419e+08</td>\n",
       "      <td>5.000000</td>\n",
       "    </tr>\n",
       "  </tbody>\n",
       "</table>\n",
       "</div>"
      ],
      "text/plain": [
       "           order_id   order_number  Actual Days to Ship  shipping_price  \\\n",
       "count  1.524000e+03    1524.000000          1524.000000     1520.000000   \n",
       "mean   8.348575e+11  129278.967192         -1596.436700        8.384329   \n",
       "std    1.732766e+10     465.247130          8185.737403       15.697430   \n",
       "min    8.055377e+11  128476.000000        -43512.768183        0.000000   \n",
       "25%    8.194779e+11  128877.750000             0.459175        0.000000   \n",
       "50%    8.338779e+11  129275.500000             1.081215        6.950000   \n",
       "75%    8.502594e+11  129682.250000             2.085616        9.000000   \n",
       "max    8.663718e+11  130093.000000            44.186782      240.000000   \n",
       "\n",
       "       sub_total_price  total_line_items_price  total_discout  total_price  \\\n",
       "count      1524.000000             1524.000000    1524.000000  1524.000000   \n",
       "mean        109.806673              119.974547      18.861850   109.806673   \n",
       "std         175.285006              202.104911      61.068876   175.285006   \n",
       "min           0.000000                0.000000       0.000000     0.000000   \n",
       "25%          24.037500               20.000000       0.000000    24.037500   \n",
       "50%          60.200000               59.950000       0.000000    60.200000   \n",
       "75%         132.125000              152.900000      10.000000   132.125000   \n",
       "max        3592.800000             4272.000000    1098.000000  3592.800000   \n",
       "\n",
       "        total_weight  from_zip_code     quantity  \n",
       "count    1524.000000   4.490000e+02  1524.000000  \n",
       "mean     2965.337927   1.864342e+07     0.723097  \n",
       "std      7876.509622   1.288656e+08     0.498946  \n",
       "min         0.000000   9.123000e+03     0.000000  \n",
       "25%       408.000000   9.826400e+04     0.000000  \n",
       "50%      1360.000000   9.826400e+04     1.000000  \n",
       "75%      3063.250000   9.826400e+04     1.000000  \n",
       "max    125191.000000   9.826419e+08     5.000000  "
      ]
     },
     "execution_count": 5,
     "metadata": {},
     "output_type": "execute_result"
    }
   ],
   "source": [
    "df.describe()"
   ]
  },
  {
   "cell_type": "code",
   "execution_count": 6,
   "metadata": {},
   "outputs": [
    {
     "name": "stdout",
     "output_type": "stream",
     "text": [
      "<class 'pandas.core.frame.DataFrame'>\n",
      "RangeIndex: 1524 entries, 0 to 1523\n",
      "Data columns (total 27 columns):\n",
      "order_id                          1524 non-null int64\n",
      "order_number                      1524 non-null int64\n",
      "created_at                        1524 non-null datetime64[ns]\n",
      "fenix_promised_date               650 non-null datetime64[ns]\n",
      "Carrier_Pickup_Date               1468 non-null datetime64[ns]\n",
      "Actual Days to Ship               1524 non-null float64\n",
      "actual_delivery_date              1419 non-null datetime64[ns]\n",
      "processed_at                      1524 non-null datetime64[ns]\n",
      "ship_to_zip                       1519 non-null object\n",
      "processing_method                 1499 non-null object\n",
      "shipping_source                   1495 non-null object\n",
      "shipping_title                    1520 non-null object\n",
      "shipping_code                     1520 non-null object\n",
      "shipping_price                    1520 non-null float64\n",
      "sub_total_price                   1524 non-null float64\n",
      "total_line_items_price            1524 non-null float64\n",
      "total_discout                     1524 non-null float64\n",
      "total_price                       1524 non-null float64\n",
      "total_weight                      1524 non-null int64\n",
      "track_id                          1524 non-null object\n",
      "carrier                           1524 non-null object\n",
      "carrier_expected_delivery_date    1524 non-null datetime64[ns]\n",
      "from_zip_code                     449 non-null float64\n",
      "quantity                          1524 non-null int64\n",
      "service_code                      1517 non-null object\n",
      "service_desc                      1517 non-null object\n",
      "status                            1524 non-null object\n",
      "dtypes: datetime64[ns](6), float64(7), int64(4), object(10)\n",
      "memory usage: 321.5+ KB\n"
     ]
    }
   ],
   "source": [
    "df.info()"
   ]
  },
  {
   "cell_type": "markdown",
   "metadata": {},
   "source": [
    "###  1.) What percentage of shipments/orders were delivered late/early (by how many days) and if the shipping estimate was provided by Fenix? Note that when a customer choose fenix provides estimates, you'll see an estimated delivery date in the shipping option."
   ]
  },
  {
   "cell_type": "code",
   "execution_count": 7,
   "metadata": {},
   "outputs": [],
   "source": [
    "fenix_commerce_df = df[df['shipping_source'] == 'Fennix Commerce']"
   ]
  },
  {
   "cell_type": "code",
   "execution_count": 8,
   "metadata": {},
   "outputs": [],
   "source": [
    "fenix_deliver_estimate = (fenix_commerce_df['actual_delivery_date'] - fenix_commerce_df['fenix_promised_date']).dt.days"
   ]
  },
  {
   "cell_type": "code",
   "execution_count": 9,
   "metadata": {},
   "outputs": [
    {
     "data": {
      "text/plain": [
       " 0.0      152\n",
       "-1.0      108\n",
       "-2.0      107\n",
       "-3.0       69\n",
       "-4.0       49\n",
       " 1.0       40\n",
       "-5.0       32\n",
       " 2.0       14\n",
       "-6.0       11\n",
       " 4.0        8\n",
       " 3.0        8\n",
       " 5.0        4\n",
       " 9.0        3\n",
       " 6.0        2\n",
       " 10.0       2\n",
       " 14.0       2\n",
       " 11.0       1\n",
       " 26.0       1\n",
       " 13.0       1\n",
       " 7.0        1\n",
       " 8.0        1\n",
       "-342.0      1\n",
       "dtype: int64"
      ]
     },
     "execution_count": 9,
     "metadata": {},
     "output_type": "execute_result"
    }
   ],
   "source": [
    "fenix_deliver_estimate.value_counts()"
   ]
  },
  {
   "cell_type": "code",
   "execution_count": 10,
   "metadata": {},
   "outputs": [
    {
     "data": {
      "text/plain": [
       "617"
      ]
     },
     "execution_count": 10,
     "metadata": {},
     "output_type": "execute_result"
    }
   ],
   "source": [
    "sum(fenix_deliver_estimate.value_counts())"
   ]
  },
  {
   "cell_type": "markdown",
   "metadata": {},
   "source": [
    "**From this table we can see that fenix commerce has mostly got the estimated delivery date correct. And if not, it has has predicted late delivery by 1, 2, 3 and 4 days so there is a buffer.**"
   ]
  },
  {
   "cell_type": "code",
   "execution_count": 11,
   "metadata": {},
   "outputs": [
    {
     "data": {
      "text/plain": [
       "465"
      ]
     },
     "execution_count": 11,
     "metadata": {},
     "output_type": "execute_result"
    }
   ],
   "source": [
    "incorrect_estimate = (sum(fenix_deliver_estimate.value_counts()) - \n",
    "                      fenix_deliver_estimate.value_counts()[0])\n",
    "incorrect_estimate"
   ]
  },
  {
   "cell_type": "markdown",
   "metadata": {},
   "source": [
    "**Number of days prediceted early / late : 465 days**"
   ]
  },
  {
   "cell_type": "code",
   "execution_count": 12,
   "metadata": {},
   "outputs": [
    {
     "data": {
      "text/plain": [
       "75.3646677471637"
      ]
     },
     "execution_count": 12,
     "metadata": {},
     "output_type": "execute_result"
    }
   ],
   "source": [
    "percent_incorrect_estimate = incorrect_estimate / sum(fenix_deliver_estimate.value_counts())  * 100\n",
    "percent_correct_estimate = 100 - percent_incorrect_estimate\n",
    "percent_incorrect_estimate"
   ]
  },
  {
   "cell_type": "markdown",
   "metadata": {},
   "source": [
    "**Percent of days predicted early / late : 75.36%**"
   ]
  },
  {
   "cell_type": "code",
   "execution_count": 13,
   "metadata": {},
   "outputs": [],
   "source": [
    "delivery_estimate_df = pd.DataFrame({'estimate' : ['Correct', 'Incorrect'],\n",
    "                                 'estimate_percent': [percent_correct_estimate,\n",
    "                                                      percent_incorrect_estimate]})"
   ]
  },
  {
   "cell_type": "code",
   "execution_count": 14,
   "metadata": {},
   "outputs": [
    {
     "data": {
      "image/png": "[encoded data removed]",
      "text/plain": [
       "<Figure size 432x288 with 1 Axes>"
      ]
     },
     "metadata": {},
     "output_type": "display_data"
    }
   ],
   "source": [
    "ax = sns.barplot(x=\"estimate\",y=\"estimate_percent\", data = delivery_estimate_df)\n",
    "ax.set(xlabel='Estimate', ylabel='Estimate_ Percent')\n",
    "ax.set_title(\"Percentage of delivery estimate\")\n",
    "plt.show()"
   ]
  },
  {
   "cell_type": "markdown",
   "metadata": {},
   "source": [
    "### 2 What percentage of shipments/orders were shipped late/early (by how many days) and if the shipping estimate was provided by Fenix? Note that when a customer choose fenix provides estimates, you'll see an estimated delivery date in the shipping option."
   ]
  },
  {
   "cell_type": "code",
   "execution_count": 15,
   "metadata": {},
   "outputs": [
    {
     "data": {
      "text/plain": [
       "Index(['order_id', 'order_number', 'created_at', 'fenix_promised_date',\n",
       "       'Carrier_Pickup_Date', 'Actual Days to Ship', 'actual_delivery_date',\n",
       "       'processed_at', 'ship_to_zip', 'processing_method', 'shipping_source',\n",
       "       'shipping_title', 'shipping_code', 'shipping_price', 'sub_total_price',\n",
       "       'total_line_items_price', 'total_discout', 'total_price',\n",
       "       'total_weight', 'track_id', 'carrier', 'carrier_expected_delivery_date',\n",
       "       'from_zip_code', 'quantity', 'service_code', 'service_desc', 'status'],\n",
       "      dtype='object')"
      ]
     },
     "execution_count": 15,
     "metadata": {},
     "output_type": "execute_result"
    }
   ],
   "source": [
    "df.columns"
   ]
  },
  {
   "cell_type": "markdown",
   "metadata": {},
   "source": [
    "#### From the above data columns we see that, <br>Actual Shipping date and Estimated shipping date are not provided we cannot determine the percent of late/early shipping estimate"
   ]
  },
  {
   "cell_type": "code",
   "execution_count": 16,
   "metadata": {},
   "outputs": [
    {
     "data": {
      "text/plain": [
       " 0        622\n",
       " 1        435\n",
       " 2        209\n",
       " 3         98\n",
       " 4         35\n",
       " 5         10\n",
       " 6          9\n",
       "-43506      7\n",
       " 14         6\n",
       "-43505      6\n",
       "-43512      5\n",
       " 13         5\n",
       " 7          4\n",
       " 10         4\n",
       " 11         4\n",
       "-43504      3\n",
       " 8          3\n",
       " 15         3\n",
       "-43480      3\n",
       "-43511      3\n",
       "-43469      2\n",
       " 27         2\n",
       "-43463      2\n",
       " 18         2\n",
       "-43477      2\n",
       "-43471      2\n",
       " 9          2\n",
       "-43475      2\n",
       "-43481      2\n",
       "-43493      2\n",
       "-43507      2\n",
       " 24         2\n",
       " 12         1\n",
       " 23         1\n",
       " 16         1\n",
       " 17         1\n",
       " 20         1\n",
       "-1          1\n",
       "-27         1\n",
       " 28         1\n",
       "-43510      1\n",
       "-43509      1\n",
       "-43503      1\n",
       "-43501      1\n",
       "-43494      1\n",
       "-43485      1\n",
       "-43483      1\n",
       "-43482      1\n",
       "-43474      1\n",
       "-43473      1\n",
       "-43472      1\n",
       "-43468      1\n",
       "-43465      1\n",
       "-47         1\n",
       " 36         1\n",
       " 34         1\n",
       " 29         1\n",
       " 44         1\n",
       "Name: Actual Days to Ship, dtype: int64"
      ]
     },
     "execution_count": 16,
     "metadata": {},
     "output_type": "execute_result"
    }
   ],
   "source": [
    "df['Actual Days to Ship'].astype('int').value_counts()"
   ]
  },
  {
   "cell_type": "markdown",
   "metadata": {},
   "source": [
    "**However from the Actual days to ship we see lot of anomalous data. Graph in additional insights**"
   ]
  },
  {
   "cell_type": "markdown",
   "metadata": {},
   "source": [
    "### 3.) What the % orders were split between fenix and non-fenix shipping options?"
   ]
  },
  {
   "cell_type": "code",
   "execution_count": 17,
   "metadata": {},
   "outputs": [],
   "source": [
    "def percent(x, y):\n",
    "    \n",
    "    # This function takes two values and returns their percentage\n",
    "    percent_x = x / y * 100\n",
    "    percent_y = 100 - percent_x\n",
    "    return percent_x, percent_y"
   ]
  },
  {
   "cell_type": "code",
   "execution_count": 18,
   "metadata": {},
   "outputs": [
    {
     "data": {
      "text/plain": [
       "shopify                   702\n",
       "Fennix Commerce           650\n",
       "Iglobal Shipping Rates     94\n",
       "fedex                      36\n",
       "usps                       13\n",
       "Name: shipping_source, dtype: int64"
      ]
     },
     "execution_count": 18,
     "metadata": {},
     "output_type": "execute_result"
    }
   ],
   "source": [
    "df['shipping_source'].value_counts()"
   ]
  },
  {
   "cell_type": "markdown",
   "metadata": {},
   "source": [
    "**From the above table we can see that Fenix Commerce was 2nd most used shipping method by customers. **"
   ]
  },
  {
   "cell_type": "code",
   "execution_count": 19,
   "metadata": {},
   "outputs": [],
   "source": [
    "fennix_percent, others_percent = percent(df['shipping_source'].value_counts()[1], \n",
    "                                         sum(df['shipping_source'].value_counts()))"
   ]
  },
  {
   "cell_type": "code",
   "execution_count": 20,
   "metadata": {},
   "outputs": [],
   "source": [
    "# Creating a dataframe to have shipping source related statistics and information\n",
    "\n",
    "orders_percent_df = pd.DataFrame({'order_option' : ['Fennix Commerce', 'Others'],\n",
    "                                 'shipping_percent': [fennix_percent, others_percent]})"
   ]
  },
  {
   "cell_type": "code",
   "execution_count": 21,
   "metadata": {},
   "outputs": [
    {
     "data": {
      "image/png": "[encoded data removed]",
      "text/plain": [
       "<Figure size 432x288 with 1 Axes>"
      ]
     },
     "metadata": {},
     "output_type": "display_data"
    }
   ],
   "source": [
    "ax = sns.barplot(x=\"order_option\",y=\"shipping_percent\", data = orders_percent_df)\n",
    "ax.set(xlabel='Order Option', ylabel='Shiping Percent')\n",
    "ax.set_title(\"Percentage of orders split for shipping option\")\n",
    "plt.show()"
   ]
  },
  {
   "cell_type": "markdown",
   "metadata": {},
   "source": [
    "**From the above graph we can see that the split for shipping for Fenix commerce is ~43% and non Fenix is ~57%.**"
   ]
  },
  {
   "cell_type": "markdown",
   "metadata": {},
   "source": [
    "### 4.)What was the % of free vs. paid shipping (when customer paid for shipping) for fenix vs. non-fenix shipping options and also total amount of shipping amount (across all orders) was paid for fenix vs. non-fenix options orders?"
   ]
  },
  {
   "cell_type": "code",
   "execution_count": 22,
   "metadata": {},
   "outputs": [
    {
     "data": {
      "text/plain": [
       "False"
      ]
     },
     "execution_count": 22,
     "metadata": {},
     "output_type": "execute_result"
    }
   ],
   "source": [
    "(df['shipping_price'] < 0).any()"
   ]
  },
  {
   "cell_type": "code",
   "execution_count": 23,
   "metadata": {},
   "outputs": [],
   "source": [
    "def cost(price):\n",
    "    if price == 0:\n",
    "        return 'Free'\n",
    "    elif price > 0:\n",
    "        return 'Paid'\n",
    "    else:\n",
    "        return 'Null'"
   ]
  },
  {
   "cell_type": "code",
   "execution_count": 24,
   "metadata": {},
   "outputs": [],
   "source": [
    "df['shipping_cost'] = df['shipping_price'].apply(cost)"
   ]
  },
  {
   "cell_type": "code",
   "execution_count": 25,
   "metadata": {},
   "outputs": [],
   "source": [
    "df_ship_fenix = df.loc[df['shipping_source'] == 'Fennix Commerce']\n",
    "df_ship_others = df.loc[df['shipping_source'] != 'Fennix Commerce']"
   ]
  },
  {
   "cell_type": "code",
   "execution_count": 26,
   "metadata": {},
   "outputs": [
    {
     "data": {
      "text/plain": [
       "Paid    405\n",
       "Free    245\n",
       "Name: shipping_cost, dtype: int64"
      ]
     },
     "execution_count": 26,
     "metadata": {},
     "output_type": "execute_result"
    }
   ],
   "source": [
    "df_ship_fenix['shipping_cost'].value_counts()"
   ]
  },
  {
   "cell_type": "code",
   "execution_count": 27,
   "metadata": {},
   "outputs": [
    {
     "data": {
      "text/plain": [
       "Paid    606\n",
       "Free    264\n",
       "Null      4\n",
       "Name: shipping_cost, dtype: int64"
      ]
     },
     "execution_count": 27,
     "metadata": {},
     "output_type": "execute_result"
    }
   ],
   "source": [
    "df_ship_others['shipping_cost'].value_counts()"
   ]
  },
  {
   "cell_type": "code",
   "execution_count": 28,
   "metadata": {},
   "outputs": [],
   "source": [
    "fenix_paid_percent, fenix_free_percent = percent(df_ship_fenix['shipping_cost'].value_counts()[0],\n",
    "                                                 sum(df_ship_fenix['shipping_cost'].value_counts()))"
   ]
  },
  {
   "cell_type": "code",
   "execution_count": 29,
   "metadata": {},
   "outputs": [],
   "source": [
    "others_paid_percent, others_free_percent = percent(df_ship_others['shipping_cost'].value_counts()[0],\n",
    "                                                   (df_ship_others['shipping_cost'].value_counts()[0] + \\\n",
    "                                                    df_ship_others['shipping_cost'].value_counts()[1]))\n"
   ]
  },
  {
   "cell_type": "code",
   "execution_count": 30,
   "metadata": {},
   "outputs": [],
   "source": [
    "orders_percent_df['shipping_cost'] = ['Paid', 'Free']\n",
    "orders_percent_df['fenix_shipping_cost'] = [fenix_paid_percent, fenix_free_percent]\n",
    "orders_percent_df['others_shipping_cost'] = [others_paid_percent, others_free_percent]"
   ]
  },
  {
   "cell_type": "code",
   "execution_count": 31,
   "metadata": {},
   "outputs": [
    {
     "data": {
      "text/html": [
       "<div>\n",
       "<style scoped>\n",
       "    .dataframe tbody tr th:only-of-type {\n",
       "        vertical-align: middle;\n",
       "    }\n",
       "\n",
       "    .dataframe tbody tr th {\n",
       "        vertical-align: top;\n",
       "    }\n",
       "\n",
       "    .dataframe thead th {\n",
       "        text-align: right;\n",
       "    }\n",
       "</style>\n",
       "<table border=\"1\" class=\"dataframe\">\n",
       "  <thead>\n",
       "    <tr style=\"text-align: right;\">\n",
       "      <th></th>\n",
       "      <th>order_option</th>\n",
       "      <th>shipping_percent</th>\n",
       "      <th>shipping_cost</th>\n",
       "      <th>fenix_shipping_cost</th>\n",
       "      <th>others_shipping_cost</th>\n",
       "    </tr>\n",
       "  </thead>\n",
       "  <tbody>\n",
       "    <tr>\n",
       "      <th>0</th>\n",
       "      <td>Fennix Commerce</td>\n",
       "      <td>43.478261</td>\n",
       "      <td>Paid</td>\n",
       "      <td>62.307692</td>\n",
       "      <td>69.655172</td>\n",
       "    </tr>\n",
       "    <tr>\n",
       "      <th>1</th>\n",
       "      <td>Others</td>\n",
       "      <td>56.521739</td>\n",
       "      <td>Free</td>\n",
       "      <td>37.692308</td>\n",
       "      <td>30.344828</td>\n",
       "    </tr>\n",
       "  </tbody>\n",
       "</table>\n",
       "</div>"
      ],
      "text/plain": [
       "      order_option  shipping_percent shipping_cost  fenix_shipping_cost  \\\n",
       "0  Fennix Commerce         43.478261          Paid            62.307692   \n",
       "1           Others         56.521739          Free            37.692308   \n",
       "\n",
       "   others_shipping_cost  \n",
       "0             69.655172  \n",
       "1             30.344828  "
      ]
     },
     "execution_count": 31,
     "metadata": {},
     "output_type": "execute_result"
    }
   ],
   "source": [
    "orders_percent_df"
   ]
  },
  {
   "cell_type": "code",
   "execution_count": 32,
   "metadata": {},
   "outputs": [
    {
     "data": {
      "image/png": "[encoded data removed]",
      "text/plain": [
       "<Figure size 432x288 with 1 Axes>"
      ]
     },
     "metadata": {},
     "output_type": "display_data"
    }
   ],
   "source": [
    "ax = sns.barplot(x=\"shipping_cost\",y=\"fenix_shipping_cost\", data = orders_percent_df)\n",
    "ax.set(xlabel='Shipping Cost', ylabel='Shiping Percent')\n",
    "ax.set_title(\"Percentage of free vs. paid shipping for Fenix Commerce\")\n",
    "plt.show()"
   ]
  },
  {
   "cell_type": "markdown",
   "metadata": {},
   "source": [
    "**From the above graph we can see that, for Fenix Commerce the paid shipping price percent is ~62% and unpaid shipping price percent is ~38%.**"
   ]
  },
  {
   "cell_type": "code",
   "execution_count": 33,
   "metadata": {},
   "outputs": [
    {
     "data": {
      "image/png": "[encoded data removed]",
      "text/plain": [
       "<Figure size 432x288 with 1 Axes>"
      ]
     },
     "metadata": {},
     "output_type": "display_data"
    }
   ],
   "source": [
    "ax = sns.barplot(x=\"shipping_cost\",y=\"others_shipping_cost\", data = orders_percent_df)\n",
    "ax.set(xlabel='Shipping Cost', ylabel='Shiping Percent')\n",
    "ax.set_title(\"Percentage of free vs. paid shipping for Others\")\n",
    "plt.show()"
   ]
  },
  {
   "cell_type": "markdown",
   "metadata": {},
   "source": [
    "**From the above graph we can see that, for no Fenix shipping options the paid shipping price percent is ~70% and unpaid shipping price percent is ~30%.**"
   ]
  },
  {
   "cell_type": "code",
   "execution_count": 34,
   "metadata": {},
   "outputs": [],
   "source": [
    "def shipping_source(source):\n",
    "    \n",
    "    if source == 'Fennix Commerce':\n",
    "        return 'Fennix Commerce'\n",
    "    else:\n",
    "        return 'Others'"
   ]
  },
  {
   "cell_type": "code",
   "execution_count": 35,
   "metadata": {},
   "outputs": [],
   "source": [
    "df['shipping_source_modified'] = df['shipping_source'].apply(shipping_source)"
   ]
  },
  {
   "cell_type": "code",
   "execution_count": 36,
   "metadata": {},
   "outputs": [],
   "source": [
    "total_fenix_shipping_price = df[df['shipping_source_modified'] == 'Fennix Commerce']['shipping_price'].sum()\n",
    "total_others_shipping_price = df[df['shipping_source_modified'] == 'Others']['shipping_price'].sum()"
   ]
  },
  {
   "cell_type": "code",
   "execution_count": 37,
   "metadata": {},
   "outputs": [],
   "source": [
    "orders_percent_df = pd.DataFrame({'shipping_option' : ['Fennix Commerce', 'Others'],\n",
    "                                 'shipping_price': [total_fenix_shipping_price, total_others_shipping_price]})"
   ]
  },
  {
   "cell_type": "code",
   "execution_count": 38,
   "metadata": {},
   "outputs": [
    {
     "data": {
      "image/png": "[encoded data removed]",
      "text/plain": [
       "<Figure size 432x288 with 1 Axes>"
      ]
     },
     "metadata": {},
     "output_type": "display_data"
    }
   ],
   "source": [
    "ax = sns.barplot(x=\"shipping_option\",y=\"shipping_price\", data = orders_percent_df)\n",
    "ax.set(xlabel='Shipping Option', ylabel='Shiping Price')\n",
    "ax.set_title(\"Percentage of free vs. paid shipping for Others\")\n",
    "plt.show()"
   ]
  },
  {
   "cell_type": "markdown",
   "metadata": {},
   "source": [
    "**From the above graph, we can see that total shipping price for Fenix Commerce is ~ 3900 and for Others is ~ 8800.**"
   ]
  },
  {
   "cell_type": "markdown",
   "metadata": {},
   "source": [
    "### Additional Insights"
   ]
  },
  {
   "cell_type": "markdown",
   "metadata": {},
   "source": [
    "#### Checking the total null values in a dataframe"
   ]
  },
  {
   "cell_type": "code",
   "execution_count": 39,
   "metadata": {},
   "outputs": [
    {
     "data": {
      "text/plain": [
       "order_id                             0\n",
       "order_number                         0\n",
       "created_at                           0\n",
       "fenix_promised_date                874\n",
       "Carrier_Pickup_Date                 56\n",
       "Actual Days to Ship                  0\n",
       "actual_delivery_date               105\n",
       "processed_at                         0\n",
       "ship_to_zip                          5\n",
       "processing_method                   25\n",
       "shipping_source                     29\n",
       "shipping_title                       4\n",
       "shipping_code                        4\n",
       "shipping_price                       4\n",
       "sub_total_price                      0\n",
       "total_line_items_price               0\n",
       "total_discout                        0\n",
       "total_price                          0\n",
       "total_weight                         0\n",
       "track_id                             0\n",
       "carrier                              0\n",
       "carrier_expected_delivery_date       0\n",
       "from_zip_code                     1075\n",
       "quantity                             0\n",
       "service_code                         7\n",
       "service_desc                         7\n",
       "status                               0\n",
       "shipping_cost                        0\n",
       "shipping_source_modified             0\n",
       "dtype: int64"
      ]
     },
     "execution_count": 39,
     "metadata": {},
     "output_type": "execute_result"
    }
   ],
   "source": [
    "df.isna().sum()"
   ]
  },
  {
   "cell_type": "markdown",
   "metadata": {},
   "source": [
    "**Few of the columns have Null Values**"
   ]
  },
  {
   "cell_type": "markdown",
   "metadata": {},
   "source": [
    "#### Checking if the Order Id has duplicate values"
   ]
  },
  {
   "cell_type": "code",
   "execution_count": 40,
   "metadata": {},
   "outputs": [
    {
     "data": {
      "text/plain": [
       "1509"
      ]
     },
     "execution_count": 40,
     "metadata": {},
     "output_type": "execute_result"
    }
   ],
   "source": [
    "df['order_id'].nunique()"
   ]
  },
  {
   "cell_type": "markdown",
   "metadata": {},
   "source": [
    "**Few of the orders are duplicated**"
   ]
  },
  {
   "cell_type": "code",
   "execution_count": 41,
   "metadata": {},
   "outputs": [
    {
     "data": {
      "text/html": [
       "<div>\n",
       "<style scoped>\n",
       "    .dataframe tbody tr th:only-of-type {\n",
       "        vertical-align: middle;\n",
       "    }\n",
       "\n",
       "    .dataframe tbody tr th {\n",
       "        vertical-align: top;\n",
       "    }\n",
       "\n",
       "    .dataframe thead th {\n",
       "        text-align: right;\n",
       "    }\n",
       "</style>\n",
       "<table border=\"1\" class=\"dataframe\">\n",
       "  <thead>\n",
       "    <tr style=\"text-align: right;\">\n",
       "      <th></th>\n",
       "      <th>order_id</th>\n",
       "      <th>order_number</th>\n",
       "      <th>created_at</th>\n",
       "      <th>fenix_promised_date</th>\n",
       "      <th>Carrier_Pickup_Date</th>\n",
       "      <th>Actual Days to Ship</th>\n",
       "      <th>actual_delivery_date</th>\n",
       "      <th>processed_at</th>\n",
       "      <th>ship_to_zip</th>\n",
       "      <th>processing_method</th>\n",
       "      <th>...</th>\n",
       "      <th>track_id</th>\n",
       "      <th>carrier</th>\n",
       "      <th>carrier_expected_delivery_date</th>\n",
       "      <th>from_zip_code</th>\n",
       "      <th>quantity</th>\n",
       "      <th>service_code</th>\n",
       "      <th>service_desc</th>\n",
       "      <th>status</th>\n",
       "      <th>shipping_cost</th>\n",
       "      <th>shipping_source_modified</th>\n",
       "    </tr>\n",
       "  </thead>\n",
       "  <tbody>\n",
       "    <tr>\n",
       "      <th>127</th>\n",
       "      <td>810977001559</td>\n",
       "      <td>128609</td>\n",
       "      <td>2019-01-02 14:51:34</td>\n",
       "      <td>2019-01-10</td>\n",
       "      <td>2019-01-03 16:36:00</td>\n",
       "      <td>1.072523</td>\n",
       "      <td>2019-01-09 12:14:09</td>\n",
       "      <td>2019-01-02 14:51:34</td>\n",
       "      <td>29928</td>\n",
       "      <td>direct</td>\n",
       "      <td>...</td>\n",
       "      <td>784783063068</td>\n",
       "      <td>FEDEX</td>\n",
       "      <td>2019-02-17 00:55:54</td>\n",
       "      <td>NaN</td>\n",
       "      <td>1</td>\n",
       "      <td>GROUND_HOME_DELIVERY</td>\n",
       "      <td>FedEx Home Delivery</td>\n",
       "      <td>DELIVERED</td>\n",
       "      <td>Free</td>\n",
       "      <td>Fennix Commerce</td>\n",
       "    </tr>\n",
       "    <tr>\n",
       "      <th>128</th>\n",
       "      <td>810977001559</td>\n",
       "      <td>128609</td>\n",
       "      <td>2019-01-02 14:51:34</td>\n",
       "      <td>2019-01-10</td>\n",
       "      <td>2019-01-16 22:44:00</td>\n",
       "      <td>14.328079</td>\n",
       "      <td>2019-01-19 16:41:00</td>\n",
       "      <td>2019-01-02 14:51:34</td>\n",
       "      <td>29928</td>\n",
       "      <td>direct</td>\n",
       "      <td>...</td>\n",
       "      <td>9405511699000699708044</td>\n",
       "      <td>USPS</td>\n",
       "      <td>2019-02-17 00:12:09</td>\n",
       "      <td>98264.0</td>\n",
       "      <td>0</td>\n",
       "      <td>PM</td>\n",
       "      <td>Priority Mail</td>\n",
       "      <td>DELIVERED</td>\n",
       "      <td>Free</td>\n",
       "      <td>Fennix Commerce</td>\n",
       "    </tr>\n",
       "    <tr>\n",
       "      <th>258</th>\n",
       "      <td>815745630295</td>\n",
       "      <td>128746</td>\n",
       "      <td>2019-01-06 14:13:40</td>\n",
       "      <td>2019-01-11</td>\n",
       "      <td>2019-01-17 17:05:00</td>\n",
       "      <td>11.118981</td>\n",
       "      <td>2019-01-21 09:40:00</td>\n",
       "      <td>2019-01-06 14:13:39</td>\n",
       "      <td>45174</td>\n",
       "      <td>express</td>\n",
       "      <td>...</td>\n",
       "      <td>785032926903</td>\n",
       "      <td>FEDEX</td>\n",
       "      <td>2019-02-17 00:48:06</td>\n",
       "      <td>NaN</td>\n",
       "      <td>1</td>\n",
       "      <td>FEDEX_2_DAY</td>\n",
       "      <td>FedEx 2Day</td>\n",
       "      <td>DELIVERED</td>\n",
       "      <td>Paid</td>\n",
       "      <td>Fennix Commerce</td>\n",
       "    </tr>\n",
       "    <tr>\n",
       "      <th>259</th>\n",
       "      <td>815745630295</td>\n",
       "      <td>128746</td>\n",
       "      <td>2019-01-06 14:13:40</td>\n",
       "      <td>2019-01-11</td>\n",
       "      <td>2019-01-09 20:12:00</td>\n",
       "      <td>3.248843</td>\n",
       "      <td>2019-01-11 15:09:00</td>\n",
       "      <td>2019-01-06 14:13:39</td>\n",
       "      <td>45174</td>\n",
       "      <td>express</td>\n",
       "      <td>...</td>\n",
       "      <td>9400111699000070102734</td>\n",
       "      <td>USPS</td>\n",
       "      <td>2019-02-17 00:11:27</td>\n",
       "      <td>98264.0</td>\n",
       "      <td>0</td>\n",
       "      <td>FC</td>\n",
       "      <td>First-Class Package Service</td>\n",
       "      <td>DELIVERED</td>\n",
       "      <td>Paid</td>\n",
       "      <td>Fennix Commerce</td>\n",
       "    </tr>\n",
       "    <tr>\n",
       "      <th>264</th>\n",
       "      <td>815940534359</td>\n",
       "      <td>128751</td>\n",
       "      <td>2019-01-06 17:56:25</td>\n",
       "      <td>2019-01-10</td>\n",
       "      <td>2019-01-07 16:41:00</td>\n",
       "      <td>0.947627</td>\n",
       "      <td>2019-01-09 16:02:00</td>\n",
       "      <td>2019-01-06 17:56:25</td>\n",
       "      <td>94928-1504</td>\n",
       "      <td>express</td>\n",
       "      <td>...</td>\n",
       "      <td>784844093445</td>\n",
       "      <td>FEDEX</td>\n",
       "      <td>2019-02-17 00:48:03</td>\n",
       "      <td>NaN</td>\n",
       "      <td>1</td>\n",
       "      <td>FEDEX_2_DAY</td>\n",
       "      <td>FedEx 2Day</td>\n",
       "      <td>DELIVERED</td>\n",
       "      <td>Free</td>\n",
       "      <td>Fennix Commerce</td>\n",
       "    </tr>\n",
       "  </tbody>\n",
       "</table>\n",
       "<p>5 rows × 29 columns</p>\n",
       "</div>"
      ],
      "text/plain": [
       "         order_id  order_number          created_at fenix_promised_date  \\\n",
       "127  810977001559        128609 2019-01-02 14:51:34          2019-01-10   \n",
       "128  810977001559        128609 2019-01-02 14:51:34          2019-01-10   \n",
       "258  815745630295        128746 2019-01-06 14:13:40          2019-01-11   \n",
       "259  815745630295        128746 2019-01-06 14:13:40          2019-01-11   \n",
       "264  815940534359        128751 2019-01-06 17:56:25          2019-01-10   \n",
       "\n",
       "    Carrier_Pickup_Date  Actual Days to Ship actual_delivery_date  \\\n",
       "127 2019-01-03 16:36:00             1.072523  2019-01-09 12:14:09   \n",
       "128 2019-01-16 22:44:00            14.328079  2019-01-19 16:41:00   \n",
       "258 2019-01-17 17:05:00            11.118981  2019-01-21 09:40:00   \n",
       "259 2019-01-09 20:12:00             3.248843  2019-01-11 15:09:00   \n",
       "264 2019-01-07 16:41:00             0.947627  2019-01-09 16:02:00   \n",
       "\n",
       "           processed_at ship_to_zip processing_method  \\\n",
       "127 2019-01-02 14:51:34       29928            direct   \n",
       "128 2019-01-02 14:51:34       29928            direct   \n",
       "258 2019-01-06 14:13:39       45174           express   \n",
       "259 2019-01-06 14:13:39       45174           express   \n",
       "264 2019-01-06 17:56:25  94928-1504           express   \n",
       "\n",
       "              ...                           track_id carrier  \\\n",
       "127           ...                       784783063068   FEDEX   \n",
       "128           ...             9405511699000699708044    USPS   \n",
       "258           ...                       785032926903   FEDEX   \n",
       "259           ...             9400111699000070102734    USPS   \n",
       "264           ...                       784844093445   FEDEX   \n",
       "\n",
       "    carrier_expected_delivery_date  from_zip_code  quantity  \\\n",
       "127            2019-02-17 00:55:54            NaN         1   \n",
       "128            2019-02-17 00:12:09        98264.0         0   \n",
       "258            2019-02-17 00:48:06            NaN         1   \n",
       "259            2019-02-17 00:11:27        98264.0         0   \n",
       "264            2019-02-17 00:48:03            NaN         1   \n",
       "\n",
       "             service_code                 service_desc     status  \\\n",
       "127  GROUND_HOME_DELIVERY          FedEx Home Delivery  DELIVERED   \n",
       "128                    PM                Priority Mail  DELIVERED   \n",
       "258           FEDEX_2_DAY                   FedEx 2Day  DELIVERED   \n",
       "259                    FC  First-Class Package Service  DELIVERED   \n",
       "264           FEDEX_2_DAY                   FedEx 2Day  DELIVERED   \n",
       "\n",
       "     shipping_cost shipping_source_modified  \n",
       "127           Free          Fennix Commerce  \n",
       "128           Free          Fennix Commerce  \n",
       "258           Paid          Fennix Commerce  \n",
       "259           Paid          Fennix Commerce  \n",
       "264           Free          Fennix Commerce  \n",
       "\n",
       "[5 rows x 29 columns]"
      ]
     },
     "execution_count": 41,
     "metadata": {},
     "output_type": "execute_result"
    }
   ],
   "source": [
    "duplicate_order_id = df[df.duplicated(subset=['order_id'],keep=False)].head()\n",
    "duplicate_order_id.head()"
   ]
  },
  {
   "cell_type": "code",
   "execution_count": 42,
   "metadata": {},
   "outputs": [
    {
     "data": {
      "text/plain": [
       "1509"
      ]
     },
     "execution_count": 42,
     "metadata": {},
     "output_type": "execute_result"
    }
   ],
   "source": [
    "df['order_number'].nunique()"
   ]
  },
  {
   "cell_type": "markdown",
   "metadata": {},
   "source": [
    "**Repeated order_id have same order_number but rest of the values can be different**"
   ]
  },
  {
   "cell_type": "code",
   "execution_count": 43,
   "metadata": {},
   "outputs": [
    {
     "name": "stderr",
     "output_type": "stream",
     "text": [
      "C:\\Users\\sanji\\Anaconda3\\lib\\site-packages\\matplotlib\\axes\\_axes.py:6462: UserWarning: The 'normed' kwarg is deprecated, and has been replaced by the 'density' kwarg.\n",
      "  warnings.warn(\"The 'normed' kwarg is deprecated, and has been \"\n"
     ]
    },
    {
     "data": {
      "image/png": "[encoded data removed]",
      "text/plain": [
       "<Figure size 432x288 with 1 Axes>"
      ]
     },
     "metadata": {},
     "output_type": "display_data"
    }
   ],
   "source": [
    "ax = sns.distplot(df['Actual Days to Ship'], kde = False, norm_hist = False, label = \"default\")\n",
    "ax.set(xlabel='Actual Days to Ship', ylabel='Number of Instances')\n",
    "ax.set_title(\"Actual Days to Ship\")\n",
    "plt.show()"
   ]
  },
  {
   "cell_type": "markdown",
   "metadata": {},
   "source": [
    "From the above graph we can that few of the Actual Days to ships are negative"
   ]
  },
  {
   "cell_type": "code",
   "execution_count": 44,
   "metadata": {},
   "outputs": [
    {
     "name": "stderr",
     "output_type": "stream",
     "text": [
      "C:\\Users\\sanji\\Anaconda3\\lib\\site-packages\\matplotlib\\axes\\_axes.py:6462: UserWarning: The 'normed' kwarg is deprecated, and has been replaced by the 'density' kwarg.\n",
      "  warnings.warn(\"The 'normed' kwarg is deprecated, and has been \"\n"
     ]
    },
    {
     "data": {
      "image/png": "[encoded data removed]",
      "text/plain": [
       "<Figure size 432x288 with 1 Axes>"
      ]
     },
     "metadata": {},
     "output_type": "display_data"
    }
   ],
   "source": [
    "ax = sns.distplot(df['quantity'], kde = False, norm_hist = False, label = \"default\")\n",
    "ax.set(xlabel='quantity', ylabel='Number of Instances')\n",
    "ax.set_title(\"Quantity of Items\")\n",
    "plt.show()"
   ]
  },
  {
   "cell_type": "code",
   "execution_count": 45,
   "metadata": {},
   "outputs": [
    {
     "name": "stderr",
     "output_type": "stream",
     "text": [
      "C:\\Users\\sanji\\Anaconda3\\lib\\site-packages\\matplotlib\\axes\\_axes.py:6462: UserWarning: The 'normed' kwarg is deprecated, and has been replaced by the 'density' kwarg.\n",
      "  warnings.warn(\"The 'normed' kwarg is deprecated, and has been \"\n"
     ]
    },
    {
     "data": {
      "image/png": "[encoded data removed]",
      "text/plain": [
       "<Figure size 432x288 with 1 Axes>"
      ]
     },
     "metadata": {},
     "output_type": "display_data"
    }
   ],
   "source": [
    "ax = sns.distplot(df['total_price'], kde = False, norm_hist = False, label = \"default\")\n",
    "ax.set(xlabel='Total Price', ylabel='Number of Instances')\n",
    "ax.set_title(\"Total Price of Items\")\n",
    "plt.show()"
   ]
  },
  {
   "cell_type": "code",
   "execution_count": 46,
   "metadata": {},
   "outputs": [
    {
     "name": "stderr",
     "output_type": "stream",
     "text": [
      "C:\\Users\\sanji\\Anaconda3\\lib\\site-packages\\matplotlib\\axes\\_axes.py:6462: UserWarning: The 'normed' kwarg is deprecated, and has been replaced by the 'density' kwarg.\n",
      "  warnings.warn(\"The 'normed' kwarg is deprecated, and has been \"\n"
     ]
    },
    {
     "data": {
      "image/png": "[encoded data removed]",
      "text/plain": [
       "<Figure size 432x288 with 1 Axes>"
      ]
     },
     "metadata": {},
     "output_type": "display_data"
    }
   ],
   "source": [
    "ax = sns.distplot(df['total_weight'], kde = False, norm_hist = False, label = \"default\")\n",
    "ax.set(xlabel='Total Weight', ylabel='Number of Instances')\n",
    "ax.set_title(\"Total Weight of Items\")\n",
    "plt.show()"
   ]
  },
  {
   "cell_type": "code",
   "execution_count": 47,
   "metadata": {},
   "outputs": [
    {
     "data": {
      "image/png": "[encoded data removed]",
      "text/plain": [
       "<Figure size 432x288 with 1 Axes>"
      ]
     },
     "metadata": {},
     "output_type": "display_data"
    }
   ],
   "source": [
    "ax = sns.barplot(x=\"carrier\",y=\"total_price\", hue='status', data = df)\n",
    "ax.set(xlabel='Carrier', ylabel='Total Price')\n",
    "ax.set_title(\"Status of Items for different carriers for total price\")\n",
    "plt.show()"
   ]
  },
  {
   "cell_type": "markdown",
   "metadata": {},
   "source": [
    "**UPS had has most priced items in delivered status. Also we can see that for costly items UPS is preferred, then FEDEX and USPS**"
   ]
  },
  {
   "cell_type": "code",
   "execution_count": 48,
   "metadata": {},
   "outputs": [
    {
     "data": {
      "text/plain": [
       "array([datetime.date(2019, 2, 17)], dtype=object)"
      ]
     },
     "execution_count": 48,
     "metadata": {},
     "output_type": "execute_result"
    }
   ],
   "source": [
    "df['carrier_expected_delivery_date'] = pd.to_datetime(df['carrier_expected_delivery_date'])\n",
    "df['carrier_expected_delivery_date'].dt.date.unique()"
   ]
  },
  {
   "cell_type": "code",
   "execution_count": 49,
   "metadata": {},
   "outputs": [
    {
     "data": {
      "text/plain": [
       "array([datetime.date(2019, 2, 17)], dtype=object)"
      ]
     },
     "execution_count": 49,
     "metadata": {},
     "output_type": "execute_result"
    }
   ],
   "source": [
    "df['carrier_expected_delivery_date'].dt.date.unique()"
   ]
  },
  {
   "cell_type": "markdown",
   "metadata": {},
   "source": [
    "**The carrier expected delivery data is in the month of February for all orders.**"
   ]
  }
 ],
 "metadata": {
  "kernelspec": {
   "display_name": "Python 3",
   "language": "python",
   "name": "python3"
  },
  "language_info": {
   "codemirror_mode": {
    "name": "ipython",
    "version": 3
   },
   "file_extension": ".py",
   "mimetype": "text/x-python",
   "name": "python",
   "nbconvert_exporter": "python",
   "pygments_lexer": "ipython3",
   "version": "3.6.5"
  }
 },
 "nbformat": 4,
 "nbformat_minor": 2
}
