{
 "cells": [
  {
   "cell_type": "code",
   "execution_count": 1,
   "metadata": {},
   "outputs": [],
   "source": [
    "import numpy as np\n",
    "import pandas as pd\n",
    "import matplotlib.pyplot as plt\n",
    "import seaborn as sns\n",
    "sns.set_style(\"whitegrid\", {'axes.grid' : True})\n",
    "sns.set_palette(\"Set2\")"
   ]
  },
  {
   "cell_type": "code",
   "execution_count": 2,
   "metadata": {},
   "outputs": [],
   "source": [
    "df = pd.read_excel('/Users/hardikchapanera/Downloads/Delivery Data Project.xlsx')"
   ]
  },
  {
   "cell_type": "code",
   "execution_count": 3,
   "metadata": {},
   "outputs": [
    {
     "data": {
      "text/html": [
       "<div>\n",
       "<style scoped>\n",
       "    .dataframe tbody tr th:only-of-type {\n",
       "        vertical-align: middle;\n",
       "    }\n",
       "\n",
       "    .dataframe tbody tr th {\n",
       "        vertical-align: top;\n",
       "    }\n",
       "\n",
       "    .dataframe thead th {\n",
       "        text-align: right;\n",
       "    }\n",
       "</style>\n",
       "<table border=\"1\" class=\"dataframe\">\n",
       "  <thead>\n",
       "    <tr style=\"text-align: right;\">\n",
       "      <th></th>\n",
       "      <th>order_id</th>\n",
       "      <th>order_number</th>\n",
       "      <th>created_at</th>\n",
       "      <th>fenix_promised_date</th>\n",
       "      <th>Carrier_Pickup_Date</th>\n",
       "      <th>Actual Days to Ship</th>\n",
       "      <th>actual_delivery_date</th>\n",
       "      <th>processed_at</th>\n",
       "      <th>ship_to_zip</th>\n",
       "      <th>processing_method</th>\n",
       "      <th>...</th>\n",
       "      <th>total_price</th>\n",
       "      <th>total_weight</th>\n",
       "      <th>track_id</th>\n",
       "      <th>carrier</th>\n",
       "      <th>carrier_expected_delivery_date</th>\n",
       "      <th>from_zip_code</th>\n",
       "      <th>quantity</th>\n",
       "      <th>service_code</th>\n",
       "      <th>service_desc</th>\n",
       "      <th>status</th>\n",
       "    </tr>\n",
       "  </thead>\n",
       "  <tbody>\n",
       "    <tr>\n",
       "      <th>0</th>\n",
       "      <td>805537710167</td>\n",
       "      <td>128476</td>\n",
       "      <td>2018-12-28 20:59:18</td>\n",
       "      <td>NaT</td>\n",
       "      <td>2019-01-02 17:15:00</td>\n",
       "      <td>4.844236</td>\n",
       "      <td>2019-01-04 11:17:00</td>\n",
       "      <td>2018-12-28 20:59:18</td>\n",
       "      <td>28144</td>\n",
       "      <td>direct</td>\n",
       "      <td>...</td>\n",
       "      <td>36.90</td>\n",
       "      <td>453</td>\n",
       "      <td>784762388808</td>\n",
       "      <td>FEDEX</td>\n",
       "      <td>2019-02-17 00:58:27</td>\n",
       "      <td>NaN</td>\n",
       "      <td>1</td>\n",
       "      <td>FEDEX_2_DAY</td>\n",
       "      <td>FedEx 2Day</td>\n",
       "      <td>DELIVERED</td>\n",
       "    </tr>\n",
       "    <tr>\n",
       "      <th>1</th>\n",
       "      <td>805607735383</td>\n",
       "      <td>128477</td>\n",
       "      <td>2018-12-28 23:15:48</td>\n",
       "      <td>2019-01-07</td>\n",
       "      <td>2019-01-02 17:15:00</td>\n",
       "      <td>4.749444</td>\n",
       "      <td>2019-01-04 13:49:00</td>\n",
       "      <td>2018-12-28 23:15:47</td>\n",
       "      <td>76401</td>\n",
       "      <td>express</td>\n",
       "      <td>...</td>\n",
       "      <td>38.00</td>\n",
       "      <td>1587</td>\n",
       "      <td>784762464001</td>\n",
       "      <td>FEDEX</td>\n",
       "      <td>2019-02-17 00:58:25</td>\n",
       "      <td>NaN</td>\n",
       "      <td>1</td>\n",
       "      <td>FEDEX_2_DAY</td>\n",
       "      <td>FedEx 2Day</td>\n",
       "      <td>DELIVERED</td>\n",
       "    </tr>\n",
       "    <tr>\n",
       "      <th>2</th>\n",
       "      <td>805616844887</td>\n",
       "      <td>128478</td>\n",
       "      <td>2018-12-28 23:41:04</td>\n",
       "      <td>2019-01-07</td>\n",
       "      <td>2019-01-02 22:22:00</td>\n",
       "      <td>4.945093</td>\n",
       "      <td>2019-01-05 12:41:00</td>\n",
       "      <td>2018-12-28 23:41:03</td>\n",
       "      <td>78380</td>\n",
       "      <td>direct</td>\n",
       "      <td>...</td>\n",
       "      <td>42.00</td>\n",
       "      <td>2041</td>\n",
       "      <td>9405511699000085056254</td>\n",
       "      <td>USPS</td>\n",
       "      <td>2019-02-17 00:12:37</td>\n",
       "      <td>98264.0</td>\n",
       "      <td>0</td>\n",
       "      <td>PM</td>\n",
       "      <td>Priority Mail</td>\n",
       "      <td>DELIVERED</td>\n",
       "    </tr>\n",
       "    <tr>\n",
       "      <th>3</th>\n",
       "      <td>805680939095</td>\n",
       "      <td>128479</td>\n",
       "      <td>2018-12-29 01:48:56</td>\n",
       "      <td>NaT</td>\n",
       "      <td>2019-01-02 17:15:00</td>\n",
       "      <td>4.643102</td>\n",
       "      <td>2019-01-08 05:28:00</td>\n",
       "      <td>2018-12-29 01:48:56</td>\n",
       "      <td>5256301</td>\n",
       "      <td>direct</td>\n",
       "      <td>...</td>\n",
       "      <td>74.99</td>\n",
       "      <td>907</td>\n",
       "      <td>784762298714</td>\n",
       "      <td>FEDEX</td>\n",
       "      <td>2019-02-17 00:58:24</td>\n",
       "      <td>NaN</td>\n",
       "      <td>1</td>\n",
       "      <td>INTERNATIONAL_ECONOMY</td>\n",
       "      <td>FedEx International Economy</td>\n",
       "      <td>DELIVERED</td>\n",
       "    </tr>\n",
       "    <tr>\n",
       "      <th>4</th>\n",
       "      <td>805769412695</td>\n",
       "      <td>128480</td>\n",
       "      <td>2018-12-29 03:34:53</td>\n",
       "      <td>2019-01-09</td>\n",
       "      <td>2019-01-04 17:29:00</td>\n",
       "      <td>6.579248</td>\n",
       "      <td>2019-01-14 10:11:00</td>\n",
       "      <td>2018-12-29 03:34:52</td>\n",
       "      <td>33586</td>\n",
       "      <td>direct</td>\n",
       "      <td>...</td>\n",
       "      <td>157.05</td>\n",
       "      <td>3401</td>\n",
       "      <td>61290985613820000953</td>\n",
       "      <td>FEDEX</td>\n",
       "      <td>2019-02-17 00:58:22</td>\n",
       "      <td>NaN</td>\n",
       "      <td>1</td>\n",
       "      <td>SMART_POST</td>\n",
       "      <td>FedEx SmartPost</td>\n",
       "      <td>DELIVERED</td>\n",
       "    </tr>\n",
       "  </tbody>\n",
       "</table>\n",
       "<p>5 rows × 27 columns</p>\n",
       "</div>"
      ],
      "text/plain": [
       "       order_id  order_number          created_at fenix_promised_date  \\\n",
       "0  805537710167        128476 2018-12-28 20:59:18                 NaT   \n",
       "1  805607735383        128477 2018-12-28 23:15:48          2019-01-07   \n",
       "2  805616844887        128478 2018-12-28 23:41:04          2019-01-07   \n",
       "3  805680939095        128479 2018-12-29 01:48:56                 NaT   \n",
       "4  805769412695        128480 2018-12-29 03:34:53          2019-01-09   \n",
       "\n",
       "  Carrier_Pickup_Date  Actual Days to Ship actual_delivery_date  \\\n",
       "0 2019-01-02 17:15:00             4.844236  2019-01-04 11:17:00   \n",
       "1 2019-01-02 17:15:00             4.749444  2019-01-04 13:49:00   \n",
       "2 2019-01-02 22:22:00             4.945093  2019-01-05 12:41:00   \n",
       "3 2019-01-02 17:15:00             4.643102  2019-01-08 05:28:00   \n",
       "4 2019-01-04 17:29:00             6.579248  2019-01-14 10:11:00   \n",
       "\n",
       "         processed_at ship_to_zip processing_method  ... total_price  \\\n",
       "0 2018-12-28 20:59:18       28144            direct  ...       36.90   \n",
       "1 2018-12-28 23:15:47       76401           express  ...       38.00   \n",
       "2 2018-12-28 23:41:03       78380            direct  ...       42.00   \n",
       "3 2018-12-29 01:48:56     5256301            direct  ...       74.99   \n",
       "4 2018-12-29 03:34:52       33586            direct  ...      157.05   \n",
       "\n",
       "  total_weight                track_id  carrier  \\\n",
       "0          453            784762388808    FEDEX   \n",
       "1         1587            784762464001    FEDEX   \n",
       "2         2041  9405511699000085056254     USPS   \n",
       "3          907            784762298714    FEDEX   \n",
       "4         3401    61290985613820000953    FEDEX   \n",
       "\n",
       "   carrier_expected_delivery_date  from_zip_code  quantity  \\\n",
       "0             2019-02-17 00:58:27            NaN         1   \n",
       "1             2019-02-17 00:58:25            NaN         1   \n",
       "2             2019-02-17 00:12:37        98264.0         0   \n",
       "3             2019-02-17 00:58:24            NaN         1   \n",
       "4             2019-02-17 00:58:22            NaN         1   \n",
       "\n",
       "            service_code                 service_desc     status  \n",
       "0            FEDEX_2_DAY                   FedEx 2Day  DELIVERED  \n",
       "1            FEDEX_2_DAY                   FedEx 2Day  DELIVERED  \n",
       "2                     PM                Priority Mail  DELIVERED  \n",
       "3  INTERNATIONAL_ECONOMY  FedEx International Economy  DELIVERED  \n",
       "4             SMART_POST              FedEx SmartPost  DELIVERED  \n",
       "\n",
       "[5 rows x 27 columns]"
      ]
     },
     "execution_count": 3,
     "metadata": {},
     "output_type": "execute_result"
    }
   ],
   "source": [
    "df.head()"
   ]
  },
  {
   "cell_type": "markdown",
   "metadata": {},
   "source": [
    "### 3.) What the % orders were split between fenix and non-fenix shipping options?"
   ]
  },
  {
   "cell_type": "code",
   "execution_count": 4,
   "metadata": {},
   "outputs": [],
   "source": [
    "def percent(x, y):\n",
    "    \n",
    "    # This function takes two values and returns their percentage\n",
    "    percent_x = x / y * 100\n",
    "    percent_y = 100 - percent_x\n",
    "    return percent_x, percent_y"
   ]
  },
  {
   "cell_type": "code",
   "execution_count": 83,
   "metadata": {},
   "outputs": [
    {
     "data": {
      "text/plain": [
       "shopify                   702\n",
       "Fennix Commerce           650\n",
       "Iglobal Shipping Rates     94\n",
       "fedex                      36\n",
       "usps                       13\n",
       "Name: shipping_source, dtype: int64"
      ]
     },
     "execution_count": 83,
     "metadata": {},
     "output_type": "execute_result"
    }
   ],
   "source": [
    "df['shipping_source'].value_counts()"
   ]
  },
  {
   "cell_type": "markdown",
   "metadata": {},
   "source": [
    "From the above table we can see that Fenix Commerce was 2nd most used shipping method by customers. "
   ]
  },
  {
   "cell_type": "code",
   "execution_count": 6,
   "metadata": {},
   "outputs": [],
   "source": [
    "fennix_percent, others_percent = percent(df['shipping_source'].value_counts()[1], \n",
    "                                         sum(df['shipping_source'].value_counts()))"
   ]
  },
  {
   "cell_type": "code",
   "execution_count": 7,
   "metadata": {},
   "outputs": [],
   "source": [
    "# Creating a dataframe to have shipping source related statistics and information\n",
    "\n",
    "orders_percent_df = pd.DataFrame({'order_option' : ['Fennix Commerce', 'Others'],\n",
    "                                 'shipping_percent': [fennix_percent, others_percent]})"
   ]
  },
  {
   "cell_type": "code",
   "execution_count": 8,
   "metadata": {},
   "outputs": [
    {
     "data": {
      "image/png": "[encoded data removed]",
      "text/plain": [
       "<Figure size 432x288 with 1 Axes>"
      ]
     },
     "metadata": {
      "needs_background": "light"
     },
     "output_type": "display_data"
    }
   ],
   "source": [
    "ax = sns.barplot(x=\"order_option\",y=\"shipping_percent\", data = orders_percent_df)\n",
    "ax.set(xlabel='Order Option', ylabel='Shiping Percent')\n",
    "ax.set_title(\"Percentage of orders split for shipping option\")\n",
    "plt.show()"
   ]
  },
  {
   "cell_type": "markdown",
   "metadata": {},
   "source": [
    "From the above graph we can see that the split for shipping for Fenix commerce is ~43% and non Fenix is ~57%."
   ]
  },
  {
   "cell_type": "code",
   "execution_count": 9,
   "metadata": {},
   "outputs": [
    {
     "data": {
      "text/plain": [
       "False"
      ]
     },
     "execution_count": 9,
     "metadata": {},
     "output_type": "execute_result"
    }
   ],
   "source": [
    "(df['shipping_price'] < 0).any()"
   ]
  },
  {
   "cell_type": "code",
   "execution_count": 77,
   "metadata": {},
   "outputs": [],
   "source": [
    "def cost(price):\n",
    "    if price == 0:\n",
    "        return 'Free'\n",
    "    elif price > 0:\n",
    "        return 'Paid'\n",
    "    else:\n",
    "        return 'Other'"
   ]
  },
  {
   "cell_type": "code",
   "execution_count": 78,
   "metadata": {},
   "outputs": [],
   "source": [
    "df['shipping_cost'] = df['shipping_price'].apply(cost)"
   ]
  },
  {
   "cell_type": "code",
   "execution_count": 79,
   "metadata": {},
   "outputs": [],
   "source": [
    "df_ship_fenix = df.loc[df['shipping_source'] == 'Fennix Commerce']\n",
    "df_ship_others = df.loc[df['shipping_source'] != 'Fennix Commerce']"
   ]
  },
  {
   "cell_type": "code",
   "execution_count": 80,
   "metadata": {},
   "outputs": [
    {
     "data": {
      "text/plain": [
       "Paid    405\n",
       "Free    245\n",
       "Name: shipping_cost, dtype: int64"
      ]
     },
     "execution_count": 80,
     "metadata": {},
     "output_type": "execute_result"
    }
   ],
   "source": [
    "df_ship_fenix['shipping_cost'].value_counts()"
   ]
  },
  {
   "cell_type": "code",
   "execution_count": 81,
   "metadata": {},
   "outputs": [
    {
     "data": {
      "text/plain": [
       "Paid     606\n",
       "Free     264\n",
       "Other      4\n",
       "Name: shipping_cost, dtype: int64"
      ]
     },
     "execution_count": 81,
     "metadata": {},
     "output_type": "execute_result"
    }
   ],
   "source": [
    "df_ship_others['shipping_cost'].value_counts()"
   ]
  },
  {
   "cell_type": "code",
   "execution_count": 120,
   "metadata": {},
   "outputs": [],
   "source": [
    "fenix_paid_percent, fenix_free_percent = percent(df_ship_fenix['shipping_cost'].value_counts()[0],\n",
    "                                                 sum(df_ship_fenix['shipping_cost'].value_counts()))"
   ]
  },
  {
   "cell_type": "code",
   "execution_count": 122,
   "metadata": {},
   "outputs": [],
   "source": [
    "others_paid_percent, others_free_percent = percent(df_ship_others['shipping_cost'].value_counts()[0],\n",
    "                                                   (df_ship_others['shipping_cost'].value_counts()[0] + \\\n",
    "                                                    df_ship_others['shipping_cost'].value_counts()[1]))\n"
   ]
  },
  {
   "cell_type": "code",
   "execution_count": 123,
   "metadata": {},
   "outputs": [],
   "source": [
    "orders_percent_df['shipping_cost'] = ['Paid', 'Free']\n",
    "orders_percent_df['fenix_shipping_cost'] = [fenix_paid_percent, fenix_free_percent]\n",
    "orders_percent_df['others_shipping_cost'] = [others_paid_percent, others_free_percent]"
   ]
  },
  {
   "cell_type": "code",
   "execution_count": 124,
   "metadata": {},
   "outputs": [
    {
     "data": {
      "text/html": [
       "<div>\n",
       "<style scoped>\n",
       "    .dataframe tbody tr th:only-of-type {\n",
       "        vertical-align: middle;\n",
       "    }\n",
       "\n",
       "    .dataframe tbody tr th {\n",
       "        vertical-align: top;\n",
       "    }\n",
       "\n",
       "    .dataframe thead th {\n",
       "        text-align: right;\n",
       "    }\n",
       "</style>\n",
       "<table border=\"1\" class=\"dataframe\">\n",
       "  <thead>\n",
       "    <tr style=\"text-align: right;\">\n",
       "      <th></th>\n",
       "      <th>order_option</th>\n",
       "      <th>shipping_percent</th>\n",
       "      <th>shipping_cost</th>\n",
       "      <th>fenix_shipping_cost</th>\n",
       "      <th>others_shipping_cost</th>\n",
       "    </tr>\n",
       "  </thead>\n",
       "  <tbody>\n",
       "    <tr>\n",
       "      <th>0</th>\n",
       "      <td>Fennix Commerce</td>\n",
       "      <td>43.478261</td>\n",
       "      <td>Paid</td>\n",
       "      <td>62.307692</td>\n",
       "      <td>69.655172</td>\n",
       "    </tr>\n",
       "    <tr>\n",
       "      <th>1</th>\n",
       "      <td>Others</td>\n",
       "      <td>56.521739</td>\n",
       "      <td>Free</td>\n",
       "      <td>37.692308</td>\n",
       "      <td>30.344828</td>\n",
       "    </tr>\n",
       "  </tbody>\n",
       "</table>\n",
       "</div>"
      ],
      "text/plain": [
       "      order_option  shipping_percent shipping_cost  fenix_shipping_cost  \\\n",
       "0  Fennix Commerce         43.478261          Paid            62.307692   \n",
       "1           Others         56.521739          Free            37.692308   \n",
       "\n",
       "   others_shipping_cost  \n",
       "0             69.655172  \n",
       "1             30.344828  "
      ]
     },
     "execution_count": 124,
     "metadata": {},
     "output_type": "execute_result"
    }
   ],
   "source": [
    "orders_percent_df"
   ]
  },
  {
   "cell_type": "code",
   "execution_count": 125,
   "metadata": {},
   "outputs": [
    {
     "data": {
      "image/png": "[encoded data removed]",
      "text/plain": [
       "<Figure size 432x288 with 1 Axes>"
      ]
     },
     "metadata": {
      "needs_background": "light"
     },
     "output_type": "display_data"
    }
   ],
   "source": [
    "ax = sns.barplot(x=\"shipping_cost\",y=\"fenix_shipping_cost\", data = orders_percent_df)\n",
    "ax.set(xlabel='Shipping Cost', ylabel='Shiping Percent')\n",
    "ax.set_title(\"Percentage of free vs. paid shipping for Fenix Commerce\")\n",
    "plt.show()"
   ]
  },
  {
   "cell_type": "markdown",
   "metadata": {},
   "source": [
    "From the above graph we can see that, for Fenic Commerce the paid shipping price percent is ~62% and paid shipping price percent is ~38%."
   ]
  },
  {
   "cell_type": "code",
   "execution_count": 126,
   "metadata": {},
   "outputs": [
    {
     "data": {
      "image/png": "[encoded data removed]",
      "text/plain": [
       "<Figure size 432x288 with 1 Axes>"
      ]
     },
     "metadata": {
      "needs_background": "light"
     },
     "output_type": "display_data"
    }
   ],
   "source": [
    "ax = sns.barplot(x=\"shipping_cost\",y=\"others_shipping_cost\", data = orders_percent_df)\n",
    "ax.set(xlabel='Shipping Cost', ylabel='Shiping Percent')\n",
    "ax.set_title(\"Percentage of free vs. paid shipping for Others\")\n",
    "plt.show()"
   ]
  },
  {
   "cell_type": "markdown",
   "metadata": {},
   "source": [
    "From the above graph we can see that, for Fenic Commerce the paid shipping price percent is ~70% and paid shipping price percent is ~30%."
   ]
  },
  {
   "cell_type": "markdown",
   "metadata": {},
   "source": [
    "### Additional Insights"
   ]
  },
  {
   "cell_type": "markdown",
   "metadata": {},
   "source": [
    "#### Checking the total null values in a dataframe"
   ]
  },
  {
   "cell_type": "code",
   "execution_count": 43,
   "metadata": {},
   "outputs": [
    {
     "data": {
      "text/plain": [
       "order_id                             0\n",
       "order_number                         0\n",
       "created_at                           0\n",
       "fenix_promised_date                874\n",
       "Carrier_Pickup_Date                 56\n",
       "Actual Days to Ship                  0\n",
       "actual_delivery_date               105\n",
       "processed_at                         0\n",
       "ship_to_zip                          5\n",
       "processing_method                   25\n",
       "shipping_source                     29\n",
       "shipping_title                       4\n",
       "shipping_code                        4\n",
       "shipping_price                       4\n",
       "sub_total_price                      0\n",
       "total_line_items_price               0\n",
       "total_discout                        0\n",
       "total_price                          0\n",
       "total_weight                         0\n",
       "track_id                             0\n",
       "carrier                              0\n",
       "carrier_expected_delivery_date       0\n",
       "from_zip_code                     1075\n",
       "quantity                             0\n",
       "service_code                         7\n",
       "service_desc                         7\n",
       "status                               0\n",
       "shipping_cost                        0\n",
       "dtype: int64"
      ]
     },
     "execution_count": 43,
     "metadata": {},
     "output_type": "execute_result"
    }
   ],
   "source": [
    "df.isna().sum()"
   ]
  },
  {
   "cell_type": "markdown",
   "metadata": {},
   "source": [
    "Few of the columns have Null Values"
   ]
  },
  {
   "cell_type": "code",
   "execution_count": 24,
   "metadata": {},
   "outputs": [
    {
     "data": {
      "text/plain": [
       "(1524, 28)"
      ]
     },
     "execution_count": 24,
     "metadata": {},
     "output_type": "execute_result"
    }
   ],
   "source": [
    "df.shape"
   ]
  },
  {
   "cell_type": "markdown",
   "metadata": {},
   "source": [
    "#### Checking if the Order Id has duplicate values"
   ]
  },
  {
   "cell_type": "code",
   "execution_count": 25,
   "metadata": {},
   "outputs": [
    {
     "data": {
      "text/plain": [
       "1509"
      ]
     },
     "execution_count": 25,
     "metadata": {},
     "output_type": "execute_result"
    }
   ],
   "source": [
    "df['order_id'].nunique()"
   ]
  },
  {
   "cell_type": "markdown",
   "metadata": {},
   "source": [
    "Few of the orders are duplicated"
   ]
  },
  {
   "cell_type": "code",
   "execution_count": 41,
   "metadata": {},
   "outputs": [
    {
     "data": {
      "text/html": [
       "<div>\n",
       "<style scoped>\n",
       "    .dataframe tbody tr th:only-of-type {\n",
       "        vertical-align: middle;\n",
       "    }\n",
       "\n",
       "    .dataframe tbody tr th {\n",
       "        vertical-align: top;\n",
       "    }\n",
       "\n",
       "    .dataframe thead th {\n",
       "        text-align: right;\n",
       "    }\n",
       "</style>\n",
       "<table border=\"1\" class=\"dataframe\">\n",
       "  <thead>\n",
       "    <tr style=\"text-align: right;\">\n",
       "      <th></th>\n",
       "      <th>order_id</th>\n",
       "      <th>order_number</th>\n",
       "      <th>created_at</th>\n",
       "      <th>fenix_promised_date</th>\n",
       "      <th>Carrier_Pickup_Date</th>\n",
       "      <th>Actual Days to Ship</th>\n",
       "      <th>actual_delivery_date</th>\n",
       "      <th>processed_at</th>\n",
       "      <th>ship_to_zip</th>\n",
       "      <th>processing_method</th>\n",
       "      <th>...</th>\n",
       "      <th>total_weight</th>\n",
       "      <th>track_id</th>\n",
       "      <th>carrier</th>\n",
       "      <th>carrier_expected_delivery_date</th>\n",
       "      <th>from_zip_code</th>\n",
       "      <th>quantity</th>\n",
       "      <th>service_code</th>\n",
       "      <th>service_desc</th>\n",
       "      <th>status</th>\n",
       "      <th>shipping_cost</th>\n",
       "    </tr>\n",
       "  </thead>\n",
       "  <tbody>\n",
       "    <tr>\n",
       "      <th>127</th>\n",
       "      <td>810977001559</td>\n",
       "      <td>128609</td>\n",
       "      <td>2019-01-02 14:51:34</td>\n",
       "      <td>2019-01-10</td>\n",
       "      <td>2019-01-03 16:36:00</td>\n",
       "      <td>1.072523</td>\n",
       "      <td>2019-01-09 12:14:09</td>\n",
       "      <td>2019-01-02 14:51:34</td>\n",
       "      <td>29928</td>\n",
       "      <td>direct</td>\n",
       "      <td>...</td>\n",
       "      <td>7484</td>\n",
       "      <td>784783063068</td>\n",
       "      <td>FEDEX</td>\n",
       "      <td>2019-02-17 00:55:54</td>\n",
       "      <td>NaN</td>\n",
       "      <td>1</td>\n",
       "      <td>GROUND_HOME_DELIVERY</td>\n",
       "      <td>FedEx Home Delivery</td>\n",
       "      <td>DELIVERED</td>\n",
       "      <td>Free</td>\n",
       "    </tr>\n",
       "    <tr>\n",
       "      <th>128</th>\n",
       "      <td>810977001559</td>\n",
       "      <td>128609</td>\n",
       "      <td>2019-01-02 14:51:34</td>\n",
       "      <td>2019-01-10</td>\n",
       "      <td>2019-01-16 22:44:00</td>\n",
       "      <td>14.328079</td>\n",
       "      <td>2019-01-19 16:41:00</td>\n",
       "      <td>2019-01-02 14:51:34</td>\n",
       "      <td>29928</td>\n",
       "      <td>direct</td>\n",
       "      <td>...</td>\n",
       "      <td>7484</td>\n",
       "      <td>9405511699000699708044</td>\n",
       "      <td>USPS</td>\n",
       "      <td>2019-02-17 00:12:09</td>\n",
       "      <td>98264.0</td>\n",
       "      <td>0</td>\n",
       "      <td>PM</td>\n",
       "      <td>Priority Mail</td>\n",
       "      <td>DELIVERED</td>\n",
       "      <td>Free</td>\n",
       "    </tr>\n",
       "    <tr>\n",
       "      <th>258</th>\n",
       "      <td>815745630295</td>\n",
       "      <td>128746</td>\n",
       "      <td>2019-01-06 14:13:40</td>\n",
       "      <td>2019-01-11</td>\n",
       "      <td>2019-01-17 17:05:00</td>\n",
       "      <td>11.118981</td>\n",
       "      <td>2019-01-21 09:40:00</td>\n",
       "      <td>2019-01-06 14:13:39</td>\n",
       "      <td>45174</td>\n",
       "      <td>express</td>\n",
       "      <td>...</td>\n",
       "      <td>3628</td>\n",
       "      <td>785032926903</td>\n",
       "      <td>FEDEX</td>\n",
       "      <td>2019-02-17 00:48:06</td>\n",
       "      <td>NaN</td>\n",
       "      <td>1</td>\n",
       "      <td>FEDEX_2_DAY</td>\n",
       "      <td>FedEx 2Day</td>\n",
       "      <td>DELIVERED</td>\n",
       "      <td>Paid</td>\n",
       "    </tr>\n",
       "    <tr>\n",
       "      <th>259</th>\n",
       "      <td>815745630295</td>\n",
       "      <td>128746</td>\n",
       "      <td>2019-01-06 14:13:40</td>\n",
       "      <td>2019-01-11</td>\n",
       "      <td>2019-01-09 20:12:00</td>\n",
       "      <td>3.248843</td>\n",
       "      <td>2019-01-11 15:09:00</td>\n",
       "      <td>2019-01-06 14:13:39</td>\n",
       "      <td>45174</td>\n",
       "      <td>express</td>\n",
       "      <td>...</td>\n",
       "      <td>3628</td>\n",
       "      <td>9400111699000070102734</td>\n",
       "      <td>USPS</td>\n",
       "      <td>2019-02-17 00:11:27</td>\n",
       "      <td>98264.0</td>\n",
       "      <td>0</td>\n",
       "      <td>FC</td>\n",
       "      <td>First-Class Package Service</td>\n",
       "      <td>DELIVERED</td>\n",
       "      <td>Paid</td>\n",
       "    </tr>\n",
       "    <tr>\n",
       "      <th>264</th>\n",
       "      <td>815940534359</td>\n",
       "      <td>128751</td>\n",
       "      <td>2019-01-06 17:56:25</td>\n",
       "      <td>2019-01-10</td>\n",
       "      <td>2019-01-07 16:41:00</td>\n",
       "      <td>0.947627</td>\n",
       "      <td>2019-01-09 16:02:00</td>\n",
       "      <td>2019-01-06 17:56:25</td>\n",
       "      <td>94928-1504</td>\n",
       "      <td>express</td>\n",
       "      <td>...</td>\n",
       "      <td>2748</td>\n",
       "      <td>784844093445</td>\n",
       "      <td>FEDEX</td>\n",
       "      <td>2019-02-17 00:48:03</td>\n",
       "      <td>NaN</td>\n",
       "      <td>1</td>\n",
       "      <td>FEDEX_2_DAY</td>\n",
       "      <td>FedEx 2Day</td>\n",
       "      <td>DELIVERED</td>\n",
       "      <td>Free</td>\n",
       "    </tr>\n",
       "  </tbody>\n",
       "</table>\n",
       "<p>5 rows × 28 columns</p>\n",
       "</div>"
      ],
      "text/plain": [
       "         order_id  order_number          created_at fenix_promised_date  \\\n",
       "127  810977001559        128609 2019-01-02 14:51:34          2019-01-10   \n",
       "128  810977001559        128609 2019-01-02 14:51:34          2019-01-10   \n",
       "258  815745630295        128746 2019-01-06 14:13:40          2019-01-11   \n",
       "259  815745630295        128746 2019-01-06 14:13:40          2019-01-11   \n",
       "264  815940534359        128751 2019-01-06 17:56:25          2019-01-10   \n",
       "\n",
       "    Carrier_Pickup_Date  Actual Days to Ship actual_delivery_date  \\\n",
       "127 2019-01-03 16:36:00             1.072523  2019-01-09 12:14:09   \n",
       "128 2019-01-16 22:44:00            14.328079  2019-01-19 16:41:00   \n",
       "258 2019-01-17 17:05:00            11.118981  2019-01-21 09:40:00   \n",
       "259 2019-01-09 20:12:00             3.248843  2019-01-11 15:09:00   \n",
       "264 2019-01-07 16:41:00             0.947627  2019-01-09 16:02:00   \n",
       "\n",
       "           processed_at ship_to_zip processing_method  ... total_weight  \\\n",
       "127 2019-01-02 14:51:34       29928            direct  ...         7484   \n",
       "128 2019-01-02 14:51:34       29928            direct  ...         7484   \n",
       "258 2019-01-06 14:13:39       45174           express  ...         3628   \n",
       "259 2019-01-06 14:13:39       45174           express  ...         3628   \n",
       "264 2019-01-06 17:56:25  94928-1504           express  ...         2748   \n",
       "\n",
       "                   track_id carrier  carrier_expected_delivery_date  \\\n",
       "127            784783063068   FEDEX             2019-02-17 00:55:54   \n",
       "128  9405511699000699708044    USPS             2019-02-17 00:12:09   \n",
       "258            785032926903   FEDEX             2019-02-17 00:48:06   \n",
       "259  9400111699000070102734    USPS             2019-02-17 00:11:27   \n",
       "264            784844093445   FEDEX             2019-02-17 00:48:03   \n",
       "\n",
       "     from_zip_code  quantity          service_code  \\\n",
       "127            NaN         1  GROUND_HOME_DELIVERY   \n",
       "128        98264.0         0                    PM   \n",
       "258            NaN         1           FEDEX_2_DAY   \n",
       "259        98264.0         0                    FC   \n",
       "264            NaN         1           FEDEX_2_DAY   \n",
       "\n",
       "                    service_desc     status shipping_cost  \n",
       "127          FedEx Home Delivery  DELIVERED          Free  \n",
       "128                Priority Mail  DELIVERED          Free  \n",
       "258                   FedEx 2Day  DELIVERED          Paid  \n",
       "259  First-Class Package Service  DELIVERED          Paid  \n",
       "264                   FedEx 2Day  DELIVERED          Free  \n",
       "\n",
       "[5 rows x 28 columns]"
      ]
     },
     "execution_count": 41,
     "metadata": {},
     "output_type": "execute_result"
    }
   ],
   "source": [
    "duplicate_order_id = df[df.duplicated(subset=['order_id'],keep=False)].head()\n",
    "duplicate_order_id.head()"
   ]
  },
  {
   "cell_type": "code",
   "execution_count": 33,
   "metadata": {},
   "outputs": [
    {
     "data": {
      "text/plain": [
       "1509"
      ]
     },
     "execution_count": 33,
     "metadata": {},
     "output_type": "execute_result"
    }
   ],
   "source": [
    "df['order_number'].nunique()"
   ]
  },
  {
   "cell_type": "markdown",
   "metadata": {},
   "source": [
    "Repeated order_id have same order_number but rest of the values can be different"
   ]
  },
  {
   "cell_type": "code",
   "execution_count": 70,
   "metadata": {},
   "outputs": [
    {
     "data": {
      "image/png": "[encoded data removed]",
      "text/plain": [
       "<Figure size 432x288 with 1 Axes>"
      ]
     },
     "metadata": {
      "needs_background": "light"
     },
     "output_type": "display_data"
    }
   ],
   "source": [
    "ax = sns.distplot(df['Actual Days to Ship'], kde = False, norm_hist = False, label = \"default\")\n",
    "ax.set(xlabel='Actual Days to Ship', ylabel='Number of Instances')\n",
    "ax.set_title(\"Actual Days to Ship\")\n",
    "plt.show()"
   ]
  },
  {
   "cell_type": "markdown",
   "metadata": {},
   "source": [
    "From the above graph we can that few of the Actual Days to ships are negative"
   ]
  },
  {
   "cell_type": "code",
   "execution_count": 72,
   "metadata": {},
   "outputs": [
    {
     "data": {
      "image/png": "[encoded data removed]",
      "text/plain": [
       "<Figure size 432x288 with 1 Axes>"
      ]
     },
     "metadata": {
      "needs_background": "light"
     },
     "output_type": "display_data"
    }
   ],
   "source": [
    "ax = sns.distplot(df['quantity'], kde = False, norm_hist = False, label = \"default\")\n",
    "ax.set(xlabel='quantity', ylabel='Number of Instances')\n",
    "ax.set_title(\"Quantity of Items\")\n",
    "plt.show()"
   ]
  },
  {
   "cell_type": "code",
   "execution_count": 92,
   "metadata": {},
   "outputs": [
    {
     "data": {
      "image/png": "[encoded data removed]",
      "text/plain": [
       "<Figure size 432x288 with 1 Axes>"
      ]
     },
     "metadata": {
      "needs_background": "light"
     },
     "output_type": "display_data"
    }
   ],
   "source": [
    "ax = sns.distplot(df['total_price'], kde = False, norm_hist = False, label = \"default\")\n",
    "ax.set(xlabel='Total Price', ylabel='Number of Instances')\n",
    "ax.set_title(\"Total Price of Items\")\n",
    "plt.show()"
   ]
  },
  {
   "cell_type": "code",
   "execution_count": 108,
   "metadata": {},
   "outputs": [
    {
     "data": {
      "image/png": "[encoded data removed]",
      "text/plain": [
       "<Figure size 432x288 with 1 Axes>"
      ]
     },
     "metadata": {
      "needs_background": "light"
     },
     "output_type": "display_data"
    }
   ],
   "source": [
    "ax = sns.distplot(df['total_weight'], kde = False, norm_hist = False, label = \"default\")\n",
    "ax.set(xlabel='Total Weight', ylabel='Number of Instances')\n",
    "ax.set_title(\"Total Weight of Items\")\n",
    "plt.show()"
   ]
  },
  {
   "cell_type": "code",
   "execution_count": 105,
   "metadata": {},
   "outputs": [
    {
     "data": {
      "image/png": "[encoded data removed]",
      "text/plain": [
       "<Figure size 432x288 with 1 Axes>"
      ]
     },
     "metadata": {
      "needs_background": "light"
     },
     "output_type": "display_data"
    }
   ],
   "source": [
    "ax = sns.barplot(x=\"carrier\",y=\"total_price\", hue='status', data = df)\n",
    "ax.set(xlabel='Carrier', ylabel='Total Price')\n",
    "ax.set_title(\"Status of Items for different carriers for total price\")\n",
    "plt.show()"
   ]
  },
  {
   "cell_type": "markdown",
   "metadata": {},
   "source": [
    "UPS had has most priced items in delivered status. Also we can see that for costly items UPS is preferred, then FEDEX and USPS"
   ]
  },
  {
   "cell_type": "code",
   "execution_count": 114,
   "metadata": {},
   "outputs": [],
   "source": [
    "df['carrier_expected_delivery_date'] = pd.to_datetime(df['carrier_expected_delivery_date'])\n",
    "df['carrier_expected_delivery_date'].dt.date.unique()"
   ]
  },
  {
   "cell_type": "code",
   "execution_count": 117,
   "metadata": {},
   "outputs": [
    {
     "data": {
      "text/plain": [
       "array([datetime.date(2019, 2, 17)], dtype=object)"
      ]
     },
     "execution_count": 117,
     "metadata": {},
     "output_type": "execute_result"
    }
   ],
   "source": [
    "df['carrier_expected_delivery_date'].dt.date.unique()"
   ]
  },
  {
   "cell_type": "markdown",
   "metadata": {},
   "source": [
    "The carrier expected delivery data is in the month of February for all orders."
   ]
  }
 ],
 "metadata": {
  "kernelspec": {
   "display_name": "Python 3",
   "language": "python",
   "name": "python3"
  },
  "language_info": {
   "codemirror_mode": {
    "name": "ipython",
    "version": 3
   },
   "file_extension": ".py",
   "mimetype": "text/x-python",
   "name": "python",
   "nbconvert_exporter": "python",
   "pygments_lexer": "ipython3",
   "version": "3.6.8"
  }
 },
 "nbformat": 4,
 "nbformat_minor": 2
}
